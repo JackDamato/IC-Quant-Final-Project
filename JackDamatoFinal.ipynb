{
 "cells": [
  {
   "cell_type": "markdown",
   "id": "03c5c3f2",
   "metadata": {},
   "source": [
    "# The U.S. economy is entering a period of fiscal uncertainty and elevated inflation risk. Characterized with record national debt, rising interest expenses, and structural budget deficits.\n",
    "\n",
    "- The Investments Committee has recently emphasized concerns around fiscal stress, interest rate pressures, and the potential crowding-out effects on private investment. (as per the Macroeconomics sector's commentary)\n",
    "\n",
    "- In this environment, understanding how inflation evolves—and how different markets respond under different inflationary regimes—is essential for informed portfolio risk management and sector allocation."
   ]
  },
  {
   "cell_type": "markdown",
   "id": "3137cf20",
   "metadata": {},
   "source": [
    "---\n",
    "## We look first to choose the data we wish to use to classify these inflationary regimes.\n",
    "- We'll look at factors like the following:\n",
    "    - From FRED: \n",
    "        - Consumer Price Index\n",
    "        - GDP\n",
    "        - Unemployment rates\n",
    "\n",
    "    - From Yahoo Finance:\n",
    "        - Sector returns (ie from XLF, XLK, XLY)\n",
    "        - Market returns (SPY)\n",
    "        - Volatility (in sectors and in market)\n",
    "    \n",
    "    - From US Treasury:\n",
    "        - Yield Curve Spreads (10 year to 2 year, 10 year to 3 month)\n",
    "        - interest rates\n",
    "        \n",
    "We aim to analyze a broad spread of regimes so we will look at the time from 2000-present. This includes the dot com bubble burst, the 2008 Financial crisis, covid, as well as the current macro environment.\n",
    "\n",
    "We will import this data, and begin to analyze it's effect. "
   ]
  },
  {
   "cell_type": "code",
   "execution_count": null,
   "id": "68c79835",
   "metadata": {},
   "outputs": [],
   "source": [
    "import pandas as pd\n",
    "import numpy as np"
   ]
  },
  {
   "cell_type": "code",
   "execution_count": null,
   "id": "018b5f0e",
   "metadata": {},
   "outputs": [],
   "source": []
  }
 ],
 "metadata": {
  "kernelspec": {
   "display_name": "base",
   "language": "python",
   "name": "python3"
  },
  "language_info": {
   "name": "python",
   "version": "3.12.7"
  }
 },
 "nbformat": 4,
 "nbformat_minor": 5
}
